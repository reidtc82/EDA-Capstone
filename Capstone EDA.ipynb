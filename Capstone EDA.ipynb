{
 "cells": [
  {
   "cell_type": "markdown",
   "metadata": {},
   "source": [
    "## CRYPTOCURRENCY PIPELINE FOR ANALYSIS AND TRADE AUTOMATION PROPOSAL\n",
    "### EDA\n",
    "#### Reid Case "
   ]
  },
  {
   "cell_type": "markdown",
   "metadata": {},
   "source": [
    "### SUMMARY\n",
    "There are thousands of active cryptocurrencies. Having the ability to predict price movement and issue buy or sell orders can be very profitable. Within a single day, the movement frequency of a single asset can allow for short term purchase-sell actions that may deliver small returns. Those frequent small returns can add up. Providing a data pipeline, data storage and the ability to issue buy-sell orders would facilitate this strategy. \n",
    "\n",
    "\n",
    "### PROBLEM STATEMENT\n",
    "Develop a pipeline that can provide cryptocurrency price data from streaming sources to “bots” used for price prediction and issuing buy-sell orders. Supporting systems would address inventory tracking for year-end tax filing, store historic price and other relevant data for predictive algorithm training, provide performance metrics for the connected “bots,” and supply additional data used for inference. \n",
    "This system must be horizontally scalable, as there are thousands of cryptocurrencies that are active and each may benefit from several “bots” executing different strategies in parallel. Along with scaling for multiple “bots,” it will be necessary to allow a user to monitor the financial performance of his “bots” as well as track outages, order fulfillment time and manage shared resources such as investment fund balances across all connections. \n"
   ]
  },
  {
   "cell_type": "code",
   "execution_count": 1,
   "metadata": {},
   "outputs": [],
   "source": [
    "import os\n",
    "import sys\n",
    "import pandas as pd\n",
    "import numpy as np\n",
    "import azure.cosmos.documents as documents\n",
    "import azure.cosmos.cosmos_client as cosmos_client\n",
    "import azure.cosmos.exceptions as exceptions\n",
    "from azure.cosmos.partition_key import PartitionKey\n",
    "import cryptowatch as cw\n",
    "from google.protobuf.json_format import MessageToJson\n",
    "import time\n",
    "import json\n",
    "import matplotlib.pyplot as plt\n",
    "import config"
   ]
  },
  {
   "cell_type": "markdown",
   "metadata": {},
   "source": [
    "### ESTABLISH DB CONNECTION\n",
    "Preliminary data was retrieved from Cryptowatch WebSocket API. Existing items within this database are from trial pulls of the data for short periods. A longer session was established to store a rich sample."
   ]
  },
  {
   "cell_type": "code",
   "execution_count": 2,
   "metadata": {},
   "outputs": [],
   "source": [
    "HOST = config.settings[\"host\"]\n",
    "MASTER_KEY = config.settings[\"master_key\"]\n",
    "DATABASE_ID = config.settings[\"database_id\"]\n",
    "CONTAINER_ID = config.settings[\"container_id\"]\n",
    "\n",
    "client = cosmos_client.CosmosClient(\n",
    "        HOST,\n",
    "        {\"masterKey\": MASTER_KEY},\n",
    "        user_agent=\"CosmosDBPythonQuickstart\",\n",
    "        user_agent_overwrite=True,\n",
    "        )"
   ]
  },
  {
   "cell_type": "code",
   "execution_count": 3,
   "metadata": {},
   "outputs": [
    {
     "name": "stdout",
     "output_type": "stream",
     "text": [
      "Database with id 'CryptoData' was found\n",
      "Container with id 'TradeUpdates' was found\n"
     ]
    }
   ],
   "source": [
    "db = client.get_database_client(DATABASE_ID)\n",
    "print(\"Database with id '{0}' was found\".format(DATABASE_ID))\n",
    "\n",
    "container = db.get_container_client(CONTAINER_ID)\n",
    "print(\"Container with id '{0}' was found\".format(CONTAINER_ID))"
   ]
  },
  {
   "cell_type": "markdown",
   "metadata": {},
   "source": [
    "### RETRIEVE DATA"
   ]
  },
  {
   "cell_type": "code",
   "execution_count": 4,
   "metadata": {},
   "outputs": [],
   "source": [
    "def read_items(container):\n",
    "    print(\"\\nReading all items in a container\\n\")\n",
    "    item_list = list(container.read_all_items(max_item_count=10))\n",
    "\n",
    "    print(\"Found {0} items\".format(item_list.__len__()))\n",
    "    \n",
    "    return item_list"
   ]
  },
  {
   "cell_type": "code",
   "execution_count": 5,
   "metadata": {},
   "outputs": [
    {
     "name": "stdout",
     "output_type": "stream",
     "text": [
      "\n",
      "Reading all items in a container\n",
      "\n",
      "Found 11994 items\n"
     ]
    }
   ],
   "source": [
    "items = read_items(container)"
   ]
  },
  {
   "cell_type": "markdown",
   "metadata": {},
   "source": [
    "### DATA DESCRIPTION\n",
    "Data is received in a Protocol Buffer format from teh WebSocket connection, converted to JSON before broadcasting through system via Kafka. When written to CosmosDB, it is in JSON format as below. There are other Stream Subscription formats that Cryptowatch can produce. This preliminary data is recording all trades being made across all markets and assets. It may be more beneficial for algorithmic trading to, instead, pull down OHLC data as opposed to individual trades.  "
   ]
  },
  {
   "cell_type": "code",
   "execution_count": 6,
   "metadata": {},
   "outputs": [
    {
     "name": "stdout",
     "output_type": "stream",
     "text": [
      "{'timestamp': '1625880746', 'priceStr': '442.57', 'amountStr': '0.534', 'timestampNano': '1625880746548000000', 'externalId': '1314494114', 'orderSide': 'BUYSIDE', 'id': '61391f8f-5db7-4caf-908c-e4f5d40d7f52', 'offset': 4000, '_rid': '6GgfALXhN5oBAAAAAAAAAA==', '_self': 'dbs/6GgfAA==/colls/6GgfALXhN5o=/docs/6GgfALXhN5oBAAAAAAAAAA==/', '_etag': '\"410128fb-0000-0700-0000-60e8faf40000\"', '_attachments': 'attachments/', '_ts': 1625881332}\n"
     ]
    }
   ],
   "source": [
    "print(items[0])"
   ]
  },
  {
   "cell_type": "markdown",
   "metadata": {},
   "source": [
    "#### Data Point Availability\n",
    "Above item contains several data points. Most critical to this project, regarding this specific Stream Subscription, would be timestamp, priceStr, amountStr, externalId, and orderSide.\n",
    "\n",
    "Assuming the use of this specific subscription, current price movement could be determined through windowing or binning by timestamp, then averaging orderSide:BUYSIDE priceStr weighted by amountStr. However, it may be easier and faster to retrieve this price estimate by instead subscribing to OHLC streams.\n",
    "\n",
    "The offset key indicates the specific frame of data recieved and functions as an index applied by Kafka. "
   ]
  },
  {
   "cell_type": "code",
   "execution_count": 7,
   "metadata": {},
   "outputs": [],
   "source": [
    "ohlc_items = []\n",
    "ohlc_df = pd.DataFrame()\n",
    "def handle_intervals_update(interval_update):\n",
    "    market_msg = \">>> Market#{} Exchange#{} Pair#{}\".format(\n",
    "        interval_update.marketUpdate.market.marketId,\n",
    "        interval_update.marketUpdate.market.exchangeId,\n",
    "        interval_update.marketUpdate.market.currencyPairId)\n",
    "#     print(market_msg)\n",
    "    \n",
    "    temp = []\n",
    "    for interval in interval_update.marketUpdate.intervalsUpdate.intervals:\n",
    "        interval_msg = \"\\tTIMESTAMP:{} OHLC:{}, {}, {}, {} VOLUMEBASE: {} VOLUMEQUOTE: {}\".format(\n",
    "            interval.closetime,\n",
    "            interval.ohlc.openStr,\n",
    "            interval.ohlc.highStr,\n",
    "            interval.ohlc.lowStr,\n",
    "            interval.ohlc.closeStr,\n",
    "            interval.volumeBaseStr,\n",
    "            interval.volumeQuoteStr\n",
    "        )\n",
    "#         print(interval_msg)\n",
    "        \n",
    "        temp.append(json.loads(MessageToJson(interval)))\n",
    "    ohlc_items.append(temp)"
   ]
  },
  {
   "cell_type": "code",
   "execution_count": 8,
   "metadata": {},
   "outputs": [],
   "source": [
    "def run_sample(subs, sleep_period):\n",
    "    # Subscribe to resources (https://docs.cryptowat.ch/websocket-api/data-subscriptions#resources)\n",
    "    cw.stream.subscriptions = subs\n",
    "\n",
    "    cw.stream.on_intervals_update = handle_intervals_update\n",
    "    # Start receiving\n",
    "    cw.stream.connect()\n",
    "\n",
    "    time.sleep(sleep_period)\n",
    "\n",
    "    cw.stream.disconnect()"
   ]
  },
  {
   "cell_type": "markdown",
   "metadata": {},
   "source": [
    "#### Different Stream Subscriptions\n",
    "Initial data pull used the Stream Subscription token, \"markets:*:trades\" to pull trade data for all markets. Different tokens can be passed into the streaming service to retrieve specific asset information and varying types of data streams. Below OHLC data for a specific asset is retrieved."
   ]
  },
  {
   "cell_type": "code",
   "execution_count": 10,
   "metadata": {
    "collapsed": true
   },
   "outputs": [
    {
     "name": "stderr",
     "output_type": "stream",
     "text": [
      "2021-08-19 19:44:55,422 - cryptowatch - ERROR - Could not decode this message: b'\\x01'\n",
      "2021-08-19 19:44:55,445 - cryptowatch - ERROR - Traceback (most recent call last):\n",
      "  File \"/Users/reidcase/opt/anaconda3/lib/python3.8/site-packages/cryptowatch/stream/__init__.py\", line 42, in on_market_update\n",
      "    stream_message.ParseFromString(message)\n",
      "google.protobuf.message.DecodeError: Error parsing message\n",
      "\n",
      "2021-08-19 19:45:05,436 - cryptowatch - ERROR - Could not decode this message: b'\\x01'\n",
      "2021-08-19 19:45:05,443 - cryptowatch - ERROR - Traceback (most recent call last):\n",
      "  File \"/Users/reidcase/opt/anaconda3/lib/python3.8/site-packages/cryptowatch/stream/__init__.py\", line 42, in on_market_update\n",
      "    stream_message.ParseFromString(message)\n",
      "google.protobuf.message.DecodeError: Error parsing message\n",
      "\n",
      "2021-08-19 19:45:15,423 - cryptowatch - ERROR - Could not decode this message: b'\\x01'\n",
      "2021-08-19 19:45:15,439 - cryptowatch - ERROR - Traceback (most recent call last):\n",
      "  File \"/Users/reidcase/opt/anaconda3/lib/python3.8/site-packages/cryptowatch/stream/__init__.py\", line 42, in on_market_update\n",
      "    stream_message.ParseFromString(message)\n",
      "google.protobuf.message.DecodeError: Error parsing message\n",
      "\n",
      "2021-08-19 19:45:25,420 - cryptowatch - ERROR - Could not decode this message: b'\\x01'\n",
      "2021-08-19 19:45:25,421 - cryptowatch - ERROR - Traceback (most recent call last):\n",
      "  File \"/Users/reidcase/opt/anaconda3/lib/python3.8/site-packages/cryptowatch/stream/__init__.py\", line 42, in on_market_update\n",
      "    stream_message.ParseFromString(message)\n",
      "google.protobuf.message.DecodeError: Error parsing message\n",
      "\n",
      "2021-08-19 19:45:35,422 - cryptowatch - ERROR - Could not decode this message: b'\\x01'\n",
      "2021-08-19 19:45:35,423 - cryptowatch - ERROR - Traceback (most recent call last):\n",
      "  File \"/Users/reidcase/opt/anaconda3/lib/python3.8/site-packages/cryptowatch/stream/__init__.py\", line 42, in on_market_update\n",
      "    stream_message.ParseFromString(message)\n",
      "google.protobuf.message.DecodeError: Error parsing message\n",
      "\n",
      "2021-08-19 19:45:45,419 - cryptowatch - ERROR - Could not decode this message: b'\\x01'\n",
      "2021-08-19 19:45:45,423 - cryptowatch - ERROR - Traceback (most recent call last):\n",
      "  File \"/Users/reidcase/opt/anaconda3/lib/python3.8/site-packages/cryptowatch/stream/__init__.py\", line 42, in on_market_update\n",
      "    stream_message.ParseFromString(message)\n",
      "google.protobuf.message.DecodeError: Error parsing message\n",
      "\n",
      "2021-08-19 19:45:55,419 - cryptowatch - ERROR - Could not decode this message: b'\\x01'\n",
      "2021-08-19 19:45:55,424 - cryptowatch - ERROR - Traceback (most recent call last):\n",
      "  File \"/Users/reidcase/opt/anaconda3/lib/python3.8/site-packages/cryptowatch/stream/__init__.py\", line 42, in on_market_update\n",
      "    stream_message.ParseFromString(message)\n",
      "google.protobuf.message.DecodeError: Error parsing message\n",
      "\n",
      "2021-08-19 19:46:05,418 - cryptowatch - ERROR - Could not decode this message: b'\\x01'\n",
      "2021-08-19 19:46:05,420 - cryptowatch - ERROR - Traceback (most recent call last):\n",
      "  File \"/Users/reidcase/opt/anaconda3/lib/python3.8/site-packages/cryptowatch/stream/__init__.py\", line 42, in on_market_update\n",
      "    stream_message.ParseFromString(message)\n",
      "google.protobuf.message.DecodeError: Error parsing message\n",
      "\n",
      "2021-08-19 19:46:15,418 - cryptowatch - ERROR - Could not decode this message: b'\\x01'\n",
      "2021-08-19 19:46:15,419 - cryptowatch - ERROR - Traceback (most recent call last):\n",
      "  File \"/Users/reidcase/opt/anaconda3/lib/python3.8/site-packages/cryptowatch/stream/__init__.py\", line 42, in on_market_update\n",
      "    stream_message.ParseFromString(message)\n",
      "google.protobuf.message.DecodeError: Error parsing message\n",
      "\n",
      "2021-08-19 19:46:25,417 - cryptowatch - ERROR - Could not decode this message: b'\\x01'\n",
      "2021-08-19 19:46:25,419 - cryptowatch - ERROR - Traceback (most recent call last):\n",
      "  File \"/Users/reidcase/opt/anaconda3/lib/python3.8/site-packages/cryptowatch/stream/__init__.py\", line 42, in on_market_update\n",
      "    stream_message.ParseFromString(message)\n",
      "google.protobuf.message.DecodeError: Error parsing message\n",
      "\n",
      "2021-08-19 19:46:35,418 - cryptowatch - ERROR - Could not decode this message: b'\\x01'\n",
      "2021-08-19 19:46:35,420 - cryptowatch - ERROR - Traceback (most recent call last):\n",
      "  File \"/Users/reidcase/opt/anaconda3/lib/python3.8/site-packages/cryptowatch/stream/__init__.py\", line 42, in on_market_update\n",
      "    stream_message.ParseFromString(message)\n",
      "google.protobuf.message.DecodeError: Error parsing message\n",
      "\n",
      "2021-08-19 19:46:45,417 - cryptowatch - ERROR - Could not decode this message: b'\\x01'\n",
      "2021-08-19 19:46:45,418 - cryptowatch - ERROR - Traceback (most recent call last):\n",
      "  File \"/Users/reidcase/opt/anaconda3/lib/python3.8/site-packages/cryptowatch/stream/__init__.py\", line 42, in on_market_update\n",
      "    stream_message.ParseFromString(message)\n",
      "google.protobuf.message.DecodeError: Error parsing message\n",
      "\n",
      "2021-08-19 19:46:55,417 - cryptowatch - ERROR - Could not decode this message: b'\\x01'\n",
      "2021-08-19 19:46:55,418 - cryptowatch - ERROR - Traceback (most recent call last):\n",
      "  File \"/Users/reidcase/opt/anaconda3/lib/python3.8/site-packages/cryptowatch/stream/__init__.py\", line 42, in on_market_update\n",
      "    stream_message.ParseFromString(message)\n",
      "google.protobuf.message.DecodeError: Error parsing message\n",
      "\n",
      "2021-08-19 19:47:05,416 - cryptowatch - ERROR - Could not decode this message: b'\\x01'\n",
      "2021-08-19 19:47:05,417 - cryptowatch - ERROR - Traceback (most recent call last):\n",
      "  File \"/Users/reidcase/opt/anaconda3/lib/python3.8/site-packages/cryptowatch/stream/__init__.py\", line 42, in on_market_update\n",
      "    stream_message.ParseFromString(message)\n",
      "google.protobuf.message.DecodeError: Error parsing message\n",
      "\n",
      "2021-08-19 19:47:15,552 - cryptowatch - ERROR - Could not decode this message: b'\\x01'\n",
      "2021-08-19 19:47:15,556 - cryptowatch - ERROR - Traceback (most recent call last):\n",
      "  File \"/Users/reidcase/opt/anaconda3/lib/python3.8/site-packages/cryptowatch/stream/__init__.py\", line 42, in on_market_update\n",
      "    stream_message.ParseFromString(message)\n",
      "google.protobuf.message.DecodeError: Error parsing message\n",
      "\n",
      "2021-08-19 19:47:25,418 - cryptowatch - ERROR - Could not decode this message: b'\\x01'\n",
      "2021-08-19 19:47:25,420 - cryptowatch - ERROR - Traceback (most recent call last):\n",
      "  File \"/Users/reidcase/opt/anaconda3/lib/python3.8/site-packages/cryptowatch/stream/__init__.py\", line 42, in on_market_update\n",
      "    stream_message.ParseFromString(message)\n",
      "google.protobuf.message.DecodeError: Error parsing message\n",
      "\n",
      "2021-08-19 19:47:35,418 - cryptowatch - ERROR - Could not decode this message: b'\\x01'\n",
      "2021-08-19 19:47:35,419 - cryptowatch - ERROR - Traceback (most recent call last):\n",
      "  File \"/Users/reidcase/opt/anaconda3/lib/python3.8/site-packages/cryptowatch/stream/__init__.py\", line 42, in on_market_update\n",
      "    stream_message.ParseFromString(message)\n",
      "google.protobuf.message.DecodeError: Error parsing message\n",
      "\n",
      "2021-08-19 19:47:45,415 - cryptowatch - ERROR - Could not decode this message: b'\\x01'\n",
      "2021-08-19 19:47:45,416 - cryptowatch - ERROR - Traceback (most recent call last):\n",
      "  File \"/Users/reidcase/opt/anaconda3/lib/python3.8/site-packages/cryptowatch/stream/__init__.py\", line 42, in on_market_update\n",
      "    stream_message.ParseFromString(message)\n",
      "google.protobuf.message.DecodeError: Error parsing message\n",
      "\n",
      "2021-08-19 19:47:55,415 - cryptowatch - ERROR - Could not decode this message: b'\\x01'\n",
      "2021-08-19 19:47:55,417 - cryptowatch - ERROR - Traceback (most recent call last):\n",
      "  File \"/Users/reidcase/opt/anaconda3/lib/python3.8/site-packages/cryptowatch/stream/__init__.py\", line 42, in on_market_update\n",
      "    stream_message.ParseFromString(message)\n",
      "google.protobuf.message.DecodeError: Error parsing message\n",
      "\n",
      "2021-08-19 19:48:05,415 - cryptowatch - ERROR - Could not decode this message: b'\\x01'\n",
      "2021-08-19 19:48:05,415 - cryptowatch - ERROR - Traceback (most recent call last):\n",
      "  File \"/Users/reidcase/opt/anaconda3/lib/python3.8/site-packages/cryptowatch/stream/__init__.py\", line 42, in on_market_update\n",
      "    stream_message.ParseFromString(message)\n",
      "google.protobuf.message.DecodeError: Error parsing message\n",
      "\n",
      "2021-08-19 19:48:15,429 - cryptowatch - ERROR - Could not decode this message: b'\\x01'\n",
      "2021-08-19 19:48:15,431 - cryptowatch - ERROR - Traceback (most recent call last):\n",
      "  File \"/Users/reidcase/opt/anaconda3/lib/python3.8/site-packages/cryptowatch/stream/__init__.py\", line 42, in on_market_update\n",
      "    stream_message.ParseFromString(message)\n",
      "google.protobuf.message.DecodeError: Error parsing message\n",
      "\n"
     ]
    },
    {
     "name": "stderr",
     "output_type": "stream",
     "text": [
      "2021-08-19 19:48:25,413 - cryptowatch - ERROR - Could not decode this message: b'\\x01'\n",
      "2021-08-19 19:48:25,414 - cryptowatch - ERROR - Traceback (most recent call last):\n",
      "  File \"/Users/reidcase/opt/anaconda3/lib/python3.8/site-packages/cryptowatch/stream/__init__.py\", line 42, in on_market_update\n",
      "    stream_message.ParseFromString(message)\n",
      "google.protobuf.message.DecodeError: Error parsing message\n",
      "\n",
      "2021-08-19 19:48:35,414 - cryptowatch - ERROR - Could not decode this message: b'\\x01'\n",
      "2021-08-19 19:48:35,416 - cryptowatch - ERROR - Traceback (most recent call last):\n",
      "  File \"/Users/reidcase/opt/anaconda3/lib/python3.8/site-packages/cryptowatch/stream/__init__.py\", line 42, in on_market_update\n",
      "    stream_message.ParseFromString(message)\n",
      "google.protobuf.message.DecodeError: Error parsing message\n",
      "\n",
      "2021-08-19 19:48:45,413 - cryptowatch - ERROR - Could not decode this message: b'\\x01'\n",
      "2021-08-19 19:48:45,415 - cryptowatch - ERROR - Traceback (most recent call last):\n",
      "  File \"/Users/reidcase/opt/anaconda3/lib/python3.8/site-packages/cryptowatch/stream/__init__.py\", line 42, in on_market_update\n",
      "    stream_message.ParseFromString(message)\n",
      "google.protobuf.message.DecodeError: Error parsing message\n",
      "\n",
      "2021-08-19 19:48:55,414 - cryptowatch - ERROR - Could not decode this message: b'\\x01'\n",
      "2021-08-19 19:48:55,418 - cryptowatch - ERROR - Traceback (most recent call last):\n",
      "  File \"/Users/reidcase/opt/anaconda3/lib/python3.8/site-packages/cryptowatch/stream/__init__.py\", line 42, in on_market_update\n",
      "    stream_message.ParseFromString(message)\n",
      "google.protobuf.message.DecodeError: Error parsing message\n",
      "\n",
      "2021-08-19 19:49:05,508 - cryptowatch - ERROR - Could not decode this message: b'\\x01'\n",
      "2021-08-19 19:49:05,539 - cryptowatch - ERROR - Traceback (most recent call last):\n",
      "  File \"/Users/reidcase/opt/anaconda3/lib/python3.8/site-packages/cryptowatch/stream/__init__.py\", line 42, in on_market_update\n",
      "    stream_message.ParseFromString(message)\n",
      "google.protobuf.message.DecodeError: Error parsing message\n",
      "\n",
      "2021-08-19 19:49:15,414 - cryptowatch - ERROR - Could not decode this message: b'\\x01'\n",
      "2021-08-19 19:49:15,426 - cryptowatch - ERROR - Traceback (most recent call last):\n",
      "  File \"/Users/reidcase/opt/anaconda3/lib/python3.8/site-packages/cryptowatch/stream/__init__.py\", line 42, in on_market_update\n",
      "    stream_message.ParseFromString(message)\n",
      "google.protobuf.message.DecodeError: Error parsing message\n",
      "\n",
      "2021-08-19 19:49:25,411 - cryptowatch - ERROR - Could not decode this message: b'\\x01'\n",
      "2021-08-19 19:49:25,419 - cryptowatch - ERROR - Traceback (most recent call last):\n",
      "  File \"/Users/reidcase/opt/anaconda3/lib/python3.8/site-packages/cryptowatch/stream/__init__.py\", line 42, in on_market_update\n",
      "    stream_message.ParseFromString(message)\n",
      "google.protobuf.message.DecodeError: Error parsing message\n",
      "\n",
      "2021-08-19 19:49:35,412 - cryptowatch - ERROR - Could not decode this message: b'\\x01'\n",
      "2021-08-19 19:49:35,413 - cryptowatch - ERROR - Traceback (most recent call last):\n",
      "  File \"/Users/reidcase/opt/anaconda3/lib/python3.8/site-packages/cryptowatch/stream/__init__.py\", line 42, in on_market_update\n",
      "    stream_message.ParseFromString(message)\n",
      "google.protobuf.message.DecodeError: Error parsing message\n",
      "\n",
      "2021-08-19 19:49:45,416 - cryptowatch - ERROR - Could not decode this message: b'\\x01'\n",
      "2021-08-19 19:49:45,417 - cryptowatch - ERROR - Traceback (most recent call last):\n",
      "  File \"/Users/reidcase/opt/anaconda3/lib/python3.8/site-packages/cryptowatch/stream/__init__.py\", line 42, in on_market_update\n",
      "    stream_message.ParseFromString(message)\n",
      "google.protobuf.message.DecodeError: Error parsing message\n",
      "\n",
      "2021-08-19 19:49:55,412 - cryptowatch - ERROR - Could not decode this message: b'\\x01'\n",
      "2021-08-19 19:49:55,415 - cryptowatch - ERROR - Traceback (most recent call last):\n",
      "  File \"/Users/reidcase/opt/anaconda3/lib/python3.8/site-packages/cryptowatch/stream/__init__.py\", line 42, in on_market_update\n",
      "    stream_message.ParseFromString(message)\n",
      "google.protobuf.message.DecodeError: Error parsing message\n",
      "\n",
      "2021-08-19 19:50:05,412 - cryptowatch - ERROR - Could not decode this message: b'\\x01'\n",
      "2021-08-19 19:50:05,415 - cryptowatch - ERROR - Traceback (most recent call last):\n",
      "  File \"/Users/reidcase/opt/anaconda3/lib/python3.8/site-packages/cryptowatch/stream/__init__.py\", line 42, in on_market_update\n",
      "    stream_message.ParseFromString(message)\n",
      "google.protobuf.message.DecodeError: Error parsing message\n",
      "\n",
      "2021-08-19 19:50:15,410 - cryptowatch - ERROR - Could not decode this message: b'\\x01'\n",
      "2021-08-19 19:50:15,411 - cryptowatch - ERROR - Traceback (most recent call last):\n",
      "  File \"/Users/reidcase/opt/anaconda3/lib/python3.8/site-packages/cryptowatch/stream/__init__.py\", line 42, in on_market_update\n",
      "    stream_message.ParseFromString(message)\n",
      "google.protobuf.message.DecodeError: Error parsing message\n",
      "\n",
      "2021-08-19 19:50:25,410 - cryptowatch - ERROR - Could not decode this message: b'\\x01'\n",
      "2021-08-19 19:50:25,412 - cryptowatch - ERROR - Traceback (most recent call last):\n",
      "  File \"/Users/reidcase/opt/anaconda3/lib/python3.8/site-packages/cryptowatch/stream/__init__.py\", line 42, in on_market_update\n",
      "    stream_message.ParseFromString(message)\n",
      "google.protobuf.message.DecodeError: Error parsing message\n",
      "\n",
      "2021-08-19 19:50:35,411 - cryptowatch - ERROR - Could not decode this message: b'\\x01'\n",
      "2021-08-19 19:50:35,415 - cryptowatch - ERROR - Traceback (most recent call last):\n",
      "  File \"/Users/reidcase/opt/anaconda3/lib/python3.8/site-packages/cryptowatch/stream/__init__.py\", line 42, in on_market_update\n",
      "    stream_message.ParseFromString(message)\n",
      "google.protobuf.message.DecodeError: Error parsing message\n",
      "\n",
      "2021-08-19 19:50:45,409 - cryptowatch - ERROR - Could not decode this message: b'\\x01'\n",
      "2021-08-19 19:50:45,410 - cryptowatch - ERROR - Traceback (most recent call last):\n",
      "  File \"/Users/reidcase/opt/anaconda3/lib/python3.8/site-packages/cryptowatch/stream/__init__.py\", line 42, in on_market_update\n",
      "    stream_message.ParseFromString(message)\n",
      "google.protobuf.message.DecodeError: Error parsing message\n",
      "\n",
      "2021-08-19 19:50:55,408 - cryptowatch - ERROR - Could not decode this message: b'\\x01'\n",
      "2021-08-19 19:50:55,409 - cryptowatch - ERROR - Traceback (most recent call last):\n",
      "  File \"/Users/reidcase/opt/anaconda3/lib/python3.8/site-packages/cryptowatch/stream/__init__.py\", line 42, in on_market_update\n",
      "    stream_message.ParseFromString(message)\n",
      "google.protobuf.message.DecodeError: Error parsing message\n",
      "\n",
      "2021-08-19 19:51:05,408 - cryptowatch - ERROR - Could not decode this message: b'\\x01'\n",
      "2021-08-19 19:51:05,409 - cryptowatch - ERROR - Traceback (most recent call last):\n",
      "  File \"/Users/reidcase/opt/anaconda3/lib/python3.8/site-packages/cryptowatch/stream/__init__.py\", line 42, in on_market_update\n",
      "    stream_message.ParseFromString(message)\n",
      "google.protobuf.message.DecodeError: Error parsing message\n",
      "\n",
      "2021-08-19 19:51:15,408 - cryptowatch - ERROR - Could not decode this message: b'\\x01'\n",
      "2021-08-19 19:51:15,411 - cryptowatch - ERROR - Traceback (most recent call last):\n",
      "  File \"/Users/reidcase/opt/anaconda3/lib/python3.8/site-packages/cryptowatch/stream/__init__.py\", line 42, in on_market_update\n",
      "    stream_message.ParseFromString(message)\n",
      "google.protobuf.message.DecodeError: Error parsing message\n",
      "\n",
      "2021-08-19 19:51:25,412 - cryptowatch - ERROR - Could not decode this message: b'\\x01'\n",
      "2021-08-19 19:51:25,413 - cryptowatch - ERROR - Traceback (most recent call last):\n",
      "  File \"/Users/reidcase/opt/anaconda3/lib/python3.8/site-packages/cryptowatch/stream/__init__.py\", line 42, in on_market_update\n",
      "    stream_message.ParseFromString(message)\n",
      "google.protobuf.message.DecodeError: Error parsing message\n",
      "\n",
      "2021-08-19 19:51:35,407 - cryptowatch - ERROR - Could not decode this message: b'\\x01'\n",
      "2021-08-19 19:51:35,408 - cryptowatch - ERROR - Traceback (most recent call last):\n",
      "  File \"/Users/reidcase/opt/anaconda3/lib/python3.8/site-packages/cryptowatch/stream/__init__.py\", line 42, in on_market_update\n",
      "    stream_message.ParseFromString(message)\n",
      "google.protobuf.message.DecodeError: Error parsing message\n",
      "\n",
      "2021-08-19 19:51:45,407 - cryptowatch - ERROR - Could not decode this message: b'\\x01'\n",
      "2021-08-19 19:51:45,408 - cryptowatch - ERROR - Traceback (most recent call last):\n",
      "  File \"/Users/reidcase/opt/anaconda3/lib/python3.8/site-packages/cryptowatch/stream/__init__.py\", line 42, in on_market_update\n",
      "    stream_message.ParseFromString(message)\n",
      "google.protobuf.message.DecodeError: Error parsing message\n",
      "\n"
     ]
    },
    {
     "name": "stderr",
     "output_type": "stream",
     "text": [
      "2021-08-19 19:51:55,406 - cryptowatch - ERROR - Could not decode this message: b'\\x01'\n",
      "2021-08-19 19:51:55,407 - cryptowatch - ERROR - Traceback (most recent call last):\n",
      "  File \"/Users/reidcase/opt/anaconda3/lib/python3.8/site-packages/cryptowatch/stream/__init__.py\", line 42, in on_market_update\n",
      "    stream_message.ParseFromString(message)\n",
      "google.protobuf.message.DecodeError: Error parsing message\n",
      "\n",
      "2021-08-19 19:52:05,408 - cryptowatch - ERROR - Could not decode this message: b'\\x01'\n",
      "2021-08-19 19:52:05,411 - cryptowatch - ERROR - Traceback (most recent call last):\n",
      "  File \"/Users/reidcase/opt/anaconda3/lib/python3.8/site-packages/cryptowatch/stream/__init__.py\", line 42, in on_market_update\n",
      "    stream_message.ParseFromString(message)\n",
      "google.protobuf.message.DecodeError: Error parsing message\n",
      "\n",
      "2021-08-19 19:52:15,407 - cryptowatch - ERROR - Could not decode this message: b'\\x01'\n",
      "2021-08-19 19:52:15,408 - cryptowatch - ERROR - Traceback (most recent call last):\n",
      "  File \"/Users/reidcase/opt/anaconda3/lib/python3.8/site-packages/cryptowatch/stream/__init__.py\", line 42, in on_market_update\n",
      "    stream_message.ParseFromString(message)\n",
      "google.protobuf.message.DecodeError: Error parsing message\n",
      "\n",
      "2021-08-19 19:52:25,406 - cryptowatch - ERROR - Could not decode this message: b'\\x01'\n",
      "2021-08-19 19:52:25,407 - cryptowatch - ERROR - Traceback (most recent call last):\n",
      "  File \"/Users/reidcase/opt/anaconda3/lib/python3.8/site-packages/cryptowatch/stream/__init__.py\", line 42, in on_market_update\n",
      "    stream_message.ParseFromString(message)\n",
      "google.protobuf.message.DecodeError: Error parsing message\n",
      "\n",
      "2021-08-19 19:52:35,405 - cryptowatch - ERROR - Could not decode this message: b'\\x01'\n",
      "2021-08-19 19:52:35,406 - cryptowatch - ERROR - Traceback (most recent call last):\n",
      "  File \"/Users/reidcase/opt/anaconda3/lib/python3.8/site-packages/cryptowatch/stream/__init__.py\", line 42, in on_market_update\n",
      "    stream_message.ParseFromString(message)\n",
      "google.protobuf.message.DecodeError: Error parsing message\n",
      "\n",
      "2021-08-19 19:52:45,405 - cryptowatch - ERROR - Could not decode this message: b'\\x01'\n",
      "2021-08-19 19:52:45,407 - cryptowatch - ERROR - Traceback (most recent call last):\n",
      "  File \"/Users/reidcase/opt/anaconda3/lib/python3.8/site-packages/cryptowatch/stream/__init__.py\", line 42, in on_market_update\n",
      "    stream_message.ParseFromString(message)\n",
      "google.protobuf.message.DecodeError: Error parsing message\n",
      "\n",
      "2021-08-19 19:52:55,406 - cryptowatch - ERROR - Could not decode this message: b'\\x01'\n",
      "2021-08-19 19:52:55,407 - cryptowatch - ERROR - Traceback (most recent call last):\n",
      "  File \"/Users/reidcase/opt/anaconda3/lib/python3.8/site-packages/cryptowatch/stream/__init__.py\", line 42, in on_market_update\n",
      "    stream_message.ParseFromString(message)\n",
      "google.protobuf.message.DecodeError: Error parsing message\n",
      "\n",
      "2021-08-19 19:53:05,406 - cryptowatch - ERROR - Could not decode this message: b'\\x01'\n",
      "2021-08-19 19:53:05,407 - cryptowatch - ERROR - Traceback (most recent call last):\n",
      "  File \"/Users/reidcase/opt/anaconda3/lib/python3.8/site-packages/cryptowatch/stream/__init__.py\", line 42, in on_market_update\n",
      "    stream_message.ParseFromString(message)\n",
      "google.protobuf.message.DecodeError: Error parsing message\n",
      "\n",
      "2021-08-19 19:53:15,406 - cryptowatch - ERROR - Could not decode this message: b'\\x01'\n",
      "2021-08-19 19:53:15,408 - cryptowatch - ERROR - Traceback (most recent call last):\n",
      "  File \"/Users/reidcase/opt/anaconda3/lib/python3.8/site-packages/cryptowatch/stream/__init__.py\", line 42, in on_market_update\n",
      "    stream_message.ParseFromString(message)\n",
      "google.protobuf.message.DecodeError: Error parsing message\n",
      "\n",
      "2021-08-19 19:53:25,404 - cryptowatch - ERROR - Could not decode this message: b'\\x01'\n",
      "2021-08-19 19:53:25,406 - cryptowatch - ERROR - Traceback (most recent call last):\n",
      "  File \"/Users/reidcase/opt/anaconda3/lib/python3.8/site-packages/cryptowatch/stream/__init__.py\", line 42, in on_market_update\n",
      "    stream_message.ParseFromString(message)\n",
      "google.protobuf.message.DecodeError: Error parsing message\n",
      "\n",
      "2021-08-19 19:53:36,243 - cryptowatch - ERROR - Could not decode this message: b'\\x01'\n",
      "2021-08-19 19:53:36,245 - cryptowatch - ERROR - Traceback (most recent call last):\n",
      "  File \"/Users/reidcase/opt/anaconda3/lib/python3.8/site-packages/cryptowatch/stream/__init__.py\", line 42, in on_market_update\n",
      "    stream_message.ParseFromString(message)\n",
      "google.protobuf.message.DecodeError: Error parsing message\n",
      "\n",
      "2021-08-19 19:53:45,424 - cryptowatch - ERROR - Could not decode this message: b'\\x01'\n",
      "2021-08-19 19:53:45,426 - cryptowatch - ERROR - Traceback (most recent call last):\n",
      "  File \"/Users/reidcase/opt/anaconda3/lib/python3.8/site-packages/cryptowatch/stream/__init__.py\", line 42, in on_market_update\n",
      "    stream_message.ParseFromString(message)\n",
      "google.protobuf.message.DecodeError: Error parsing message\n",
      "\n",
      "2021-08-19 19:53:55,403 - cryptowatch - ERROR - Could not decode this message: b'\\x01'\n",
      "2021-08-19 19:53:55,404 - cryptowatch - ERROR - Traceback (most recent call last):\n",
      "  File \"/Users/reidcase/opt/anaconda3/lib/python3.8/site-packages/cryptowatch/stream/__init__.py\", line 42, in on_market_update\n",
      "    stream_message.ParseFromString(message)\n",
      "google.protobuf.message.DecodeError: Error parsing message\n",
      "\n",
      "2021-08-19 19:54:05,445 - cryptowatch - ERROR - Could not decode this message: b'\\x01'\n",
      "2021-08-19 19:54:05,454 - cryptowatch - ERROR - Traceback (most recent call last):\n",
      "  File \"/Users/reidcase/opt/anaconda3/lib/python3.8/site-packages/cryptowatch/stream/__init__.py\", line 42, in on_market_update\n",
      "    stream_message.ParseFromString(message)\n",
      "google.protobuf.message.DecodeError: Error parsing message\n",
      "\n",
      "2021-08-19 19:54:15,402 - cryptowatch - ERROR - Could not decode this message: b'\\x01'\n",
      "2021-08-19 19:54:15,403 - cryptowatch - ERROR - Traceback (most recent call last):\n",
      "  File \"/Users/reidcase/opt/anaconda3/lib/python3.8/site-packages/cryptowatch/stream/__init__.py\", line 42, in on_market_update\n",
      "    stream_message.ParseFromString(message)\n",
      "google.protobuf.message.DecodeError: Error parsing message\n",
      "\n",
      "2021-08-19 19:54:25,402 - cryptowatch - ERROR - Could not decode this message: b'\\x01'\n",
      "2021-08-19 19:54:25,403 - cryptowatch - ERROR - Traceback (most recent call last):\n",
      "  File \"/Users/reidcase/opt/anaconda3/lib/python3.8/site-packages/cryptowatch/stream/__init__.py\", line 42, in on_market_update\n",
      "    stream_message.ParseFromString(message)\n",
      "google.protobuf.message.DecodeError: Error parsing message\n",
      "\n",
      "2021-08-19 19:54:35,401 - cryptowatch - ERROR - Could not decode this message: b'\\x01'\n",
      "2021-08-19 19:54:35,402 - cryptowatch - ERROR - Traceback (most recent call last):\n",
      "  File \"/Users/reidcase/opt/anaconda3/lib/python3.8/site-packages/cryptowatch/stream/__init__.py\", line 42, in on_market_update\n",
      "    stream_message.ParseFromString(message)\n",
      "google.protobuf.message.DecodeError: Error parsing message\n",
      "\n",
      "2021-08-19 19:54:45,402 - cryptowatch - ERROR - Could not decode this message: b'\\x01'\n",
      "2021-08-19 19:54:45,404 - cryptowatch - ERROR - Traceback (most recent call last):\n",
      "  File \"/Users/reidcase/opt/anaconda3/lib/python3.8/site-packages/cryptowatch/stream/__init__.py\", line 42, in on_market_update\n",
      "    stream_message.ParseFromString(message)\n",
      "google.protobuf.message.DecodeError: Error parsing message\n",
      "\n"
     ]
    }
   ],
   "source": [
    "secs = 600\n",
    "run_sample([\"assets:60:ohlc\"], secs)  "
   ]
  },
  {
   "cell_type": "code",
   "execution_count": 12,
   "metadata": {},
   "outputs": [
    {
     "name": "stdout",
     "output_type": "stream",
     "text": [
      "{'closetime': '1629504000', 'ohlc': {'openStr': '46760.62', 'highStr': '47390', 'lowStr': '46622.99', 'closeStr': '47206.69'}, 'volumeBaseStr': '6719.168009', 'volumeQuoteStr': '316692343.12207231', 'periodName': '86400'}\n",
      "{'closetime': '1629427500', 'ohlc': {'openStr': '47151.12', 'highStr': '47220', 'lowStr': '47137.16', 'closeStr': '47206.69'}, 'volumeBaseStr': '59.933618', 'volumeQuoteStr': '2827927.53278727', 'periodName': '180'}\n",
      "{'closetime': '1629432000', 'ohlc': {'openStr': '47193.52', 'highStr': '47309.92', 'lowStr': '47067.31', 'closeStr': '47206.69'}, 'volumeBaseStr': '1123.006467', 'volumeQuoteStr': '52979817.46563534', 'periodName': '7200'}\n",
      "{'closetime': '1629439200', 'ohlc': {'openStr': '46760.62', 'highStr': '47390', 'lowStr': '46622.99', 'closeStr': '47206.69'}, 'volumeBaseStr': '6719.168009', 'volumeQuoteStr': '316692343.12207231', 'periodName': '21600'}\n",
      "{'closetime': '1629460800', 'ohlc': {'openStr': '46760.62', 'highStr': '47390', 'lowStr': '46622.99', 'closeStr': '47206.69'}, 'volumeBaseStr': '6719.168009', 'volumeQuoteStr': '316692343.12207231', 'periodName': '43200'}\n",
      "{'closetime': '1629427500', 'ohlc': {'openStr': '47197.69', 'highStr': '47220', 'lowStr': '47197.68', 'closeStr': '47206.69'}, 'volumeBaseStr': '14.456404', 'volumeQuoteStr': '682465.65047674', 'periodName': '60'}\n",
      "{'closetime': '1629428400', 'ohlc': {'openStr': '47217.64', 'highStr': '47309.92', 'lowStr': '47137.16', 'closeStr': '47206.69'}, 'volumeBaseStr': '389.68864', 'volumeQuoteStr': '18404822.00982977', 'periodName': '1800'}\n",
      "{'closetime': '1629432000', 'ohlc': {'openStr': '46760.62', 'highStr': '47390', 'lowStr': '46622.99', 'closeStr': '47206.69'}, 'volumeBaseStr': '6719.168009', 'volumeQuoteStr': '316692343.12207231', 'periodName': '14400'}\n",
      "{'closetime': '1629427500', 'ohlc': {'openStr': '47180.51', 'highStr': '47220', 'lowStr': '47137.16', 'closeStr': '47206.69'}, 'volumeBaseStr': '98.920787', 'volumeQuoteStr': '4666668.25566333', 'periodName': '300'}\n",
      "{'closetime': '1629427500', 'ohlc': {'openStr': '47217.64', 'highStr': '47309.92', 'lowStr': '47137.16', 'closeStr': '47206.69'}, 'volumeBaseStr': '389.68864', 'volumeQuoteStr': '18404822.00982977', 'periodName': '900'}\n"
     ]
    }
   ],
   "source": [
    "int_count = 0\n",
    "for item in ohlc_items:\n",
    "    for interval in item:\n",
    "        if int_count < 10:\n",
    "            print(interval)\n",
    "        int_count+=1"
   ]
  },
  {
   "cell_type": "code",
   "execution_count": 13,
   "metadata": {},
   "outputs": [
    {
     "name": "stdout",
     "output_type": "stream",
     "text": [
      "A total of 269016 intervals were received over a 600 second period.\n",
      "Results are an average of 448.36 interval updates per second.\n"
     ]
    }
   ],
   "source": [
    "print('A total of {} intervals were received over a {} second period.'.format(int_count, secs))\n",
    "print('Results are an average of {} interval updates per second.'.format((int_count/secs)))"
   ]
  },
  {
   "cell_type": "markdown",
   "metadata": {},
   "source": [
    "Within each interval is a key called periodName. The value of this represents the specific period for which the ohlc data applies in the interval update. \n",
    "\n",
    "The periodName is a bin that represents a time window for which the hlc data pplies. These are updated more frequently than the window time. See below for period descriptions.\n",
    "\n",
    "|Value|Label|\n",
    "|:--|:--|\n",
    "|60|1m|\n",
    "|180|3m|\n",
    "|300|5m|\n",
    "|900|15m|\n",
    "|1800|30m|\n",
    "|3600|1h|\n",
    "|7200|2h|\n",
    "|14400|4h|\n",
    "|21600|6h|\n",
    "|43200|12h|\n",
    "|86400|1d|\n",
    "|259200|3d|\n",
    "|604800|1w|\n",
    "|604800_Monday|Week to Day|"
   ]
  },
  {
   "cell_type": "code",
   "execution_count": 14,
   "metadata": {},
   "outputs": [],
   "source": [
    "import datetime\n",
    "import time\n",
    "\n",
    "min_int = []\n",
    "for item in ohlc_items:\n",
    "    for interval in item:\n",
    "        if interval['periodName'] == '60':\n",
    "            ts = int(interval['closetime'])\n",
    "            min_int.append(datetime.datetime.fromtimestamp(ts).isoformat())"
   ]
  },
  {
   "cell_type": "code",
   "execution_count": 15,
   "metadata": {},
   "outputs": [
    {
     "name": "stdout",
     "output_type": "stream",
     "text": [
      "For 1 minute periods 20723 updates were received.\n",
      "Over 600 seconds, that is 34.538333333333334 updates per second average.\n"
     ]
    }
   ],
   "source": [
    "print('For 1 minute periods {} updates were received.'.format(len(min_int)))\n",
    "print('Over {} seconds, that is {} updates per second average.'.format(secs, (len(min_int)/secs)))"
   ]
  },
  {
   "cell_type": "code",
   "execution_count": 19,
   "metadata": {},
   "outputs": [
    {
     "data": {
      "image/png": "[encoded data removed]",
      "text/plain": [
       "<Figure size 576x288 with 1 Axes>"
      ]
     },
     "metadata": {
      "needs_background": "light"
     },
     "output_type": "display_data"
    }
   ],
   "source": [
    "plt.figure(figsize=(8,4))\n",
    "n, bins, patches = plt.hist(min_int, 'auto')\n",
    "\n",
    "\n",
    "plt.xlabel('closetime')\n",
    "plt.ylabel('Count')\n",
    "plt.title('Histogram of 1 Minute Period Received by closetime')\n",
    "plt.xticks(rotation=90)\n",
    "plt.grid(True)\n",
    "\n",
    "plt.show()"
   ]
  },
  {
   "cell_type": "markdown",
   "metadata": {},
   "source": [
    "### CONCLUSION\n",
    "Data that has been retrieved in preliminary work will need to be expanded upon. As this is a streaming pipeline, sufficient overhead for storaage will need to be established. \n",
    "\n",
    "Additionally, it will need to be determined if the ohlc data or the raw trade activities will be the stream type of data needed. Work will need to be done to parse out the protocol buffer type that is streamed in. For recall purposes, it will be beneficial to organize the returned values such that the keys are more meaningful."
   ]
  },
  {
   "cell_type": "code",
   "execution_count": null,
   "metadata": {},
   "outputs": [],
   "source": []
  }
 ],
 "metadata": {
  "kernelspec": {
   "display_name": "Python 3",
   "language": "python",
   "name": "python3"
  },
  "language_info": {
   "codemirror_mode": {
    "name": "ipython",
    "version": 3
   },
   "file_extension": ".py",
   "mimetype": "text/x-python",
   "name": "python",
   "nbconvert_exporter": "python",
   "pygments_lexer": "ipython3",
   "version": "3.8.5"
  }
 },
 "nbformat": 4,
 "nbformat_minor": 4
}
